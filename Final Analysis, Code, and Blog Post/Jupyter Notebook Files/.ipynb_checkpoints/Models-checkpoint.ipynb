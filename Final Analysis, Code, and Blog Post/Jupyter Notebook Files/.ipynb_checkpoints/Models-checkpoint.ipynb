{
 "cells": [
  {
   "cell_type": "code",
   "execution_count": 113,
   "id": "1cfcc60f",
   "metadata": {},
   "outputs": [],
   "source": [
    "# Import Library\n",
    "import pandas as pd\n",
    "import matplotlib.pyplot as plt\n",
    "from sklearn.model_selection import train_test_split\n",
    "from sklearn.linear_model import LogisticRegression\n",
    "from sklearn.neural_network import MLPClassifier\n",
    "from sklearn.neighbors import KNeighborsClassifier\n",
    "from sklearn.metrics import accuracy_score, precision_score, recall_score, f1_score, confusion_matrix, plot_confusion_matrix, classification_report\n",
    "import warnings\n",
    "warnings.filterwarnings('ignore')"
   ]
  },
  {
   "cell_type": "markdown",
   "id": "26e8e1ed",
   "metadata": {},
   "source": [
    "## Loading the dataset"
   ]
  },
  {
   "cell_type": "code",
   "execution_count": 114,
   "id": "fbec313c",
   "metadata": {},
   "outputs": [],
   "source": [
    "df = pd.read_csv(\"./../../Dataset/cleaned_data.csv\", index_col=0)"
   ]
  },
  {
   "cell_type": "code",
   "execution_count": 115,
   "id": "dffa7bd6",
   "metadata": {},
   "outputs": [
    {
     "data": {
      "text/html": [
       "<div>\n",
       "<style scoped>\n",
       "    .dataframe tbody tr th:only-of-type {\n",
       "        vertical-align: middle;\n",
       "    }\n",
       "\n",
       "    .dataframe tbody tr th {\n",
       "        vertical-align: top;\n",
       "    }\n",
       "\n",
       "    .dataframe thead th {\n",
       "        text-align: right;\n",
       "    }\n",
       "</style>\n",
       "<table border=\"1\" class=\"dataframe\">\n",
       "  <thead>\n",
       "    <tr style=\"text-align: right;\">\n",
       "      <th></th>\n",
       "      <th>CRASH DATE</th>\n",
       "      <th>CRASH TIME</th>\n",
       "      <th>BOROUGH</th>\n",
       "      <th>LATITUDE</th>\n",
       "      <th>LONGITUDE</th>\n",
       "      <th>NUMBER OF PERSONS INJURED</th>\n",
       "      <th>NUMBER OF PERSONS KILLED</th>\n",
       "      <th>NUMBER OF PEDESTRIANS INJURED</th>\n",
       "      <th>NUMBER OF PEDESTRIANS KILLED</th>\n",
       "      <th>NUMBER OF CYCLIST INJURED</th>\n",
       "      <th>NUMBER OF CYCLIST KILLED</th>\n",
       "      <th>NUMBER OF MOTORIST INJURED</th>\n",
       "      <th>NUMBER OF MOTORIST KILLED</th>\n",
       "    </tr>\n",
       "  </thead>\n",
       "  <tbody>\n",
       "    <tr>\n",
       "      <th>289193</th>\n",
       "      <td>08/02/2019</td>\n",
       "      <td>9:45</td>\n",
       "      <td>MANHATTAN</td>\n",
       "      <td>40.762604</td>\n",
       "      <td>-73.978470</td>\n",
       "      <td>0.0</td>\n",
       "      <td>0.0</td>\n",
       "      <td>0</td>\n",
       "      <td>0</td>\n",
       "      <td>0</td>\n",
       "      <td>0</td>\n",
       "      <td>0</td>\n",
       "      <td>0</td>\n",
       "    </tr>\n",
       "    <tr>\n",
       "      <th>487892</th>\n",
       "      <td>09/19/2018</td>\n",
       "      <td>17:20</td>\n",
       "      <td>BROOKLYN</td>\n",
       "      <td>40.636024</td>\n",
       "      <td>-73.895060</td>\n",
       "      <td>0.0</td>\n",
       "      <td>0.0</td>\n",
       "      <td>0</td>\n",
       "      <td>0</td>\n",
       "      <td>0</td>\n",
       "      <td>0</td>\n",
       "      <td>0</td>\n",
       "      <td>0</td>\n",
       "    </tr>\n",
       "    <tr>\n",
       "      <th>1421033</th>\n",
       "      <td>07/05/2014</td>\n",
       "      <td>6:30</td>\n",
       "      <td>QUEENS</td>\n",
       "      <td>40.745410</td>\n",
       "      <td>-73.889257</td>\n",
       "      <td>0.0</td>\n",
       "      <td>0.0</td>\n",
       "      <td>0</td>\n",
       "      <td>0</td>\n",
       "      <td>0</td>\n",
       "      <td>0</td>\n",
       "      <td>0</td>\n",
       "      <td>0</td>\n",
       "    </tr>\n",
       "    <tr>\n",
       "      <th>1477640</th>\n",
       "      <td>04/07/2014</td>\n",
       "      <td>18:00</td>\n",
       "      <td>QUEENS</td>\n",
       "      <td>40.764350</td>\n",
       "      <td>-73.825943</td>\n",
       "      <td>1.0</td>\n",
       "      <td>0.0</td>\n",
       "      <td>1</td>\n",
       "      <td>0</td>\n",
       "      <td>0</td>\n",
       "      <td>0</td>\n",
       "      <td>0</td>\n",
       "      <td>0</td>\n",
       "    </tr>\n",
       "    <tr>\n",
       "      <th>1169435</th>\n",
       "      <td>09/13/2015</td>\n",
       "      <td>0:30</td>\n",
       "      <td>QUEENS</td>\n",
       "      <td>40.709830</td>\n",
       "      <td>-73.776338</td>\n",
       "      <td>0.0</td>\n",
       "      <td>0.0</td>\n",
       "      <td>0</td>\n",
       "      <td>0</td>\n",
       "      <td>0</td>\n",
       "      <td>0</td>\n",
       "      <td>0</td>\n",
       "      <td>0</td>\n",
       "    </tr>\n",
       "  </tbody>\n",
       "</table>\n",
       "</div>"
      ],
      "text/plain": [
       "         CRASH DATE CRASH TIME    BOROUGH   LATITUDE  LONGITUDE  \\\n",
       "289193   08/02/2019       9:45  MANHATTAN  40.762604 -73.978470   \n",
       "487892   09/19/2018      17:20   BROOKLYN  40.636024 -73.895060   \n",
       "1421033  07/05/2014       6:30     QUEENS  40.745410 -73.889257   \n",
       "1477640  04/07/2014      18:00     QUEENS  40.764350 -73.825943   \n",
       "1169435  09/13/2015       0:30     QUEENS  40.709830 -73.776338   \n",
       "\n",
       "         NUMBER OF PERSONS INJURED  NUMBER OF PERSONS KILLED  \\\n",
       "289193                         0.0                       0.0   \n",
       "487892                         0.0                       0.0   \n",
       "1421033                        0.0                       0.0   \n",
       "1477640                        1.0                       0.0   \n",
       "1169435                        0.0                       0.0   \n",
       "\n",
       "         NUMBER OF PEDESTRIANS INJURED  NUMBER OF PEDESTRIANS KILLED  \\\n",
       "289193                               0                             0   \n",
       "487892                               0                             0   \n",
       "1421033                              0                             0   \n",
       "1477640                              1                             0   \n",
       "1169435                              0                             0   \n",
       "\n",
       "         NUMBER OF CYCLIST INJURED  NUMBER OF CYCLIST KILLED  \\\n",
       "289193                           0                         0   \n",
       "487892                           0                         0   \n",
       "1421033                          0                         0   \n",
       "1477640                          0                         0   \n",
       "1169435                          0                         0   \n",
       "\n",
       "         NUMBER OF MOTORIST INJURED  NUMBER OF MOTORIST KILLED  \n",
       "289193                            0                          0  \n",
       "487892                            0                          0  \n",
       "1421033                           0                          0  \n",
       "1477640                           0                          0  \n",
       "1169435                           0                          0  "
      ]
     },
     "execution_count": 115,
     "metadata": {},
     "output_type": "execute_result"
    }
   ],
   "source": [
    "df.head()"
   ]
  },
  {
   "cell_type": "markdown",
   "id": "d924aa1c",
   "metadata": {},
   "source": [
    "## Information about the dataset"
   ]
  },
  {
   "cell_type": "code",
   "execution_count": 116,
   "id": "52a922a4",
   "metadata": {},
   "outputs": [
    {
     "name": "stdout",
     "output_type": "stream",
     "text": [
      "<class 'pandas.core.frame.DataFrame'>\n",
      "Int64Index: 34780 entries, 289193 to 1525735\n",
      "Data columns (total 13 columns):\n",
      " #   Column                         Non-Null Count  Dtype  \n",
      "---  ------                         --------------  -----  \n",
      " 0   CRASH DATE                     34780 non-null  object \n",
      " 1   CRASH TIME                     34780 non-null  object \n",
      " 2   BOROUGH                        34780 non-null  object \n",
      " 3   LATITUDE                       34780 non-null  float64\n",
      " 4   LONGITUDE                      34780 non-null  float64\n",
      " 5   NUMBER OF PERSONS INJURED      34780 non-null  float64\n",
      " 6   NUMBER OF PERSONS KILLED       34780 non-null  float64\n",
      " 7   NUMBER OF PEDESTRIANS INJURED  34780 non-null  int64  \n",
      " 8   NUMBER OF PEDESTRIANS KILLED   34780 non-null  int64  \n",
      " 9   NUMBER OF CYCLIST INJURED      34780 non-null  int64  \n",
      " 10  NUMBER OF CYCLIST KILLED       34780 non-null  int64  \n",
      " 11  NUMBER OF MOTORIST INJURED     34780 non-null  int64  \n",
      " 12  NUMBER OF MOTORIST KILLED      34780 non-null  int64  \n",
      "dtypes: float64(4), int64(6), object(3)\n",
      "memory usage: 3.7+ MB\n"
     ]
    }
   ],
   "source": [
    "df.info()"
   ]
  },
  {
   "cell_type": "code",
   "execution_count": 117,
   "id": "a62a43d9",
   "metadata": {},
   "outputs": [
    {
     "data": {
      "text/html": [
       "<div>\n",
       "<style scoped>\n",
       "    .dataframe tbody tr th:only-of-type {\n",
       "        vertical-align: middle;\n",
       "    }\n",
       "\n",
       "    .dataframe tbody tr th {\n",
       "        vertical-align: top;\n",
       "    }\n",
       "\n",
       "    .dataframe thead th {\n",
       "        text-align: right;\n",
       "    }\n",
       "</style>\n",
       "<table border=\"1\" class=\"dataframe\">\n",
       "  <thead>\n",
       "    <tr style=\"text-align: right;\">\n",
       "      <th></th>\n",
       "      <th>LATITUDE</th>\n",
       "      <th>LONGITUDE</th>\n",
       "      <th>NUMBER OF PERSONS INJURED</th>\n",
       "      <th>NUMBER OF PERSONS KILLED</th>\n",
       "      <th>NUMBER OF PEDESTRIANS INJURED</th>\n",
       "      <th>NUMBER OF PEDESTRIANS KILLED</th>\n",
       "      <th>NUMBER OF CYCLIST INJURED</th>\n",
       "      <th>NUMBER OF CYCLIST KILLED</th>\n",
       "      <th>NUMBER OF MOTORIST INJURED</th>\n",
       "      <th>NUMBER OF MOTORIST KILLED</th>\n",
       "    </tr>\n",
       "  </thead>\n",
       "  <tbody>\n",
       "    <tr>\n",
       "      <th>count</th>\n",
       "      <td>34780.000000</td>\n",
       "      <td>34780.000000</td>\n",
       "      <td>34780.000000</td>\n",
       "      <td>34780.000000</td>\n",
       "      <td>34780.00000</td>\n",
       "      <td>34780.000000</td>\n",
       "      <td>34780.000000</td>\n",
       "      <td>34780.000000</td>\n",
       "      <td>34780.000000</td>\n",
       "      <td>34780.000000</td>\n",
       "    </tr>\n",
       "    <tr>\n",
       "      <th>mean</th>\n",
       "      <td>40.674016</td>\n",
       "      <td>-73.834497</td>\n",
       "      <td>0.263571</td>\n",
       "      <td>0.000978</td>\n",
       "      <td>0.06176</td>\n",
       "      <td>0.000546</td>\n",
       "      <td>0.026912</td>\n",
       "      <td>0.000115</td>\n",
       "      <td>0.173634</td>\n",
       "      <td>0.000316</td>\n",
       "    </tr>\n",
       "    <tr>\n",
       "      <th>std</th>\n",
       "      <td>1.382378</td>\n",
       "      <td>2.506796</td>\n",
       "      <td>0.643078</td>\n",
       "      <td>0.033040</td>\n",
       "      <td>0.25227</td>\n",
       "      <td>0.024567</td>\n",
       "      <td>0.163947</td>\n",
       "      <td>0.010724</td>\n",
       "      <td>0.593834</td>\n",
       "      <td>0.019331</td>\n",
       "    </tr>\n",
       "    <tr>\n",
       "      <th>min</th>\n",
       "      <td>0.000000</td>\n",
       "      <td>-74.253930</td>\n",
       "      <td>0.000000</td>\n",
       "      <td>0.000000</td>\n",
       "      <td>0.00000</td>\n",
       "      <td>0.000000</td>\n",
       "      <td>0.000000</td>\n",
       "      <td>0.000000</td>\n",
       "      <td>0.000000</td>\n",
       "      <td>0.000000</td>\n",
       "    </tr>\n",
       "    <tr>\n",
       "      <th>25%</th>\n",
       "      <td>40.668103</td>\n",
       "      <td>-73.975890</td>\n",
       "      <td>0.000000</td>\n",
       "      <td>0.000000</td>\n",
       "      <td>0.00000</td>\n",
       "      <td>0.000000</td>\n",
       "      <td>0.000000</td>\n",
       "      <td>0.000000</td>\n",
       "      <td>0.000000</td>\n",
       "      <td>0.000000</td>\n",
       "    </tr>\n",
       "    <tr>\n",
       "      <th>50%</th>\n",
       "      <td>40.716299</td>\n",
       "      <td>-73.928214</td>\n",
       "      <td>0.000000</td>\n",
       "      <td>0.000000</td>\n",
       "      <td>0.00000</td>\n",
       "      <td>0.000000</td>\n",
       "      <td>0.000000</td>\n",
       "      <td>0.000000</td>\n",
       "      <td>0.000000</td>\n",
       "      <td>0.000000</td>\n",
       "    </tr>\n",
       "    <tr>\n",
       "      <th>75%</th>\n",
       "      <td>40.764623</td>\n",
       "      <td>-73.864814</td>\n",
       "      <td>0.000000</td>\n",
       "      <td>0.000000</td>\n",
       "      <td>0.00000</td>\n",
       "      <td>0.000000</td>\n",
       "      <td>0.000000</td>\n",
       "      <td>0.000000</td>\n",
       "      <td>0.000000</td>\n",
       "      <td>0.000000</td>\n",
       "    </tr>\n",
       "    <tr>\n",
       "      <th>max</th>\n",
       "      <td>40.912080</td>\n",
       "      <td>0.000000</td>\n",
       "      <td>18.000000</td>\n",
       "      <td>2.000000</td>\n",
       "      <td>4.00000</td>\n",
       "      <td>2.000000</td>\n",
       "      <td>2.000000</td>\n",
       "      <td>1.000000</td>\n",
       "      <td>18.000000</td>\n",
       "      <td>2.000000</td>\n",
       "    </tr>\n",
       "  </tbody>\n",
       "</table>\n",
       "</div>"
      ],
      "text/plain": [
       "           LATITUDE     LONGITUDE  NUMBER OF PERSONS INJURED  \\\n",
       "count  34780.000000  34780.000000               34780.000000   \n",
       "mean      40.674016    -73.834497                   0.263571   \n",
       "std        1.382378      2.506796                   0.643078   \n",
       "min        0.000000    -74.253930                   0.000000   \n",
       "25%       40.668103    -73.975890                   0.000000   \n",
       "50%       40.716299    -73.928214                   0.000000   \n",
       "75%       40.764623    -73.864814                   0.000000   \n",
       "max       40.912080      0.000000                  18.000000   \n",
       "\n",
       "       NUMBER OF PERSONS KILLED  NUMBER OF PEDESTRIANS INJURED  \\\n",
       "count              34780.000000                    34780.00000   \n",
       "mean                   0.000978                        0.06176   \n",
       "std                    0.033040                        0.25227   \n",
       "min                    0.000000                        0.00000   \n",
       "25%                    0.000000                        0.00000   \n",
       "50%                    0.000000                        0.00000   \n",
       "75%                    0.000000                        0.00000   \n",
       "max                    2.000000                        4.00000   \n",
       "\n",
       "       NUMBER OF PEDESTRIANS KILLED  NUMBER OF CYCLIST INJURED  \\\n",
       "count                  34780.000000               34780.000000   \n",
       "mean                       0.000546                   0.026912   \n",
       "std                        0.024567                   0.163947   \n",
       "min                        0.000000                   0.000000   \n",
       "25%                        0.000000                   0.000000   \n",
       "50%                        0.000000                   0.000000   \n",
       "75%                        0.000000                   0.000000   \n",
       "max                        2.000000                   2.000000   \n",
       "\n",
       "       NUMBER OF CYCLIST KILLED  NUMBER OF MOTORIST INJURED  \\\n",
       "count              34780.000000                34780.000000   \n",
       "mean                   0.000115                    0.173634   \n",
       "std                    0.010724                    0.593834   \n",
       "min                    0.000000                    0.000000   \n",
       "25%                    0.000000                    0.000000   \n",
       "50%                    0.000000                    0.000000   \n",
       "75%                    0.000000                    0.000000   \n",
       "max                    1.000000                   18.000000   \n",
       "\n",
       "       NUMBER OF MOTORIST KILLED  \n",
       "count               34780.000000  \n",
       "mean                    0.000316  \n",
       "std                     0.019331  \n",
       "min                     0.000000  \n",
       "25%                     0.000000  \n",
       "50%                     0.000000  \n",
       "75%                     0.000000  \n",
       "max                     2.000000  "
      ]
     },
     "execution_count": 117,
     "metadata": {},
     "output_type": "execute_result"
    }
   ],
   "source": [
    "df.describe()"
   ]
  },
  {
   "cell_type": "code",
   "execution_count": 118,
   "id": "784f094e",
   "metadata": {},
   "outputs": [
    {
     "data": {
      "text/plain": [
       "(34780, 13)"
      ]
     },
     "execution_count": 118,
     "metadata": {},
     "output_type": "execute_result"
    }
   ],
   "source": [
    "df.shape"
   ]
  },
  {
   "cell_type": "code",
   "execution_count": 119,
   "id": "b9751642",
   "metadata": {},
   "outputs": [
    {
     "data": {
      "text/plain": [
       "Index(['CRASH DATE', 'CRASH TIME', 'BOROUGH', 'LATITUDE', 'LONGITUDE',\n",
       "       'NUMBER OF PERSONS INJURED', 'NUMBER OF PERSONS KILLED',\n",
       "       'NUMBER OF PEDESTRIANS INJURED', 'NUMBER OF PEDESTRIANS KILLED',\n",
       "       'NUMBER OF CYCLIST INJURED', 'NUMBER OF CYCLIST KILLED',\n",
       "       'NUMBER OF MOTORIST INJURED', 'NUMBER OF MOTORIST KILLED'],\n",
       "      dtype='object')"
      ]
     },
     "execution_count": 119,
     "metadata": {},
     "output_type": "execute_result"
    }
   ],
   "source": [
    "df.columns"
   ]
  },
  {
   "cell_type": "code",
   "execution_count": 120,
   "id": "ee697b82",
   "metadata": {},
   "outputs": [
    {
     "data": {
      "text/plain": [
       "CRASH DATE                       0\n",
       "CRASH TIME                       0\n",
       "BOROUGH                          0\n",
       "LATITUDE                         0\n",
       "LONGITUDE                        0\n",
       "NUMBER OF PERSONS INJURED        0\n",
       "NUMBER OF PERSONS KILLED         0\n",
       "NUMBER OF PEDESTRIANS INJURED    0\n",
       "NUMBER OF PEDESTRIANS KILLED     0\n",
       "NUMBER OF CYCLIST INJURED        0\n",
       "NUMBER OF CYCLIST KILLED         0\n",
       "NUMBER OF MOTORIST INJURED       0\n",
       "NUMBER OF MOTORIST KILLED        0\n",
       "dtype: int64"
      ]
     },
     "execution_count": 120,
     "metadata": {},
     "output_type": "execute_result"
    }
   ],
   "source": [
    "df.isnull().sum()"
   ]
  },
  {
   "cell_type": "markdown",
   "id": "3ced1006",
   "metadata": {},
   "source": [
    "## Splitting the dataset"
   ]
  },
  {
   "cell_type": "code",
   "execution_count": 121,
   "id": "e181c771",
   "metadata": {},
   "outputs": [
    {
     "data": {
      "text/plain": [
       "array([2019, 2018, 2014, 2015, 2013, 2017, 2016, 2012, 2020, 2021],\n",
       "      dtype=int64)"
      ]
     },
     "execution_count": 121,
     "metadata": {},
     "output_type": "execute_result"
    }
   ],
   "source": [
    "#Adding a new column for years\n",
    "df[\"CRASH DATE\"] = pd.to_datetime(df[\"CRASH DATE\"])\n",
    "df[\"year\"] = df[\"CRASH DATE\"].dt.year\n",
    "df[\"year\"].unique()"
   ]
  },
  {
   "cell_type": "code",
   "execution_count": 122,
   "id": "eabff24d",
   "metadata": {},
   "outputs": [
    {
     "data": {
      "text/plain": [
       "array([ 8,  9,  7,  4,  1,  5,  2, 12, 10,  6, 11,  3], dtype=int64)"
      ]
     },
     "execution_count": 122,
     "metadata": {},
     "output_type": "execute_result"
    }
   ],
   "source": [
    "#Adding a month column for months\n",
    "df[\"month\"] = df[\"CRASH DATE\"].dt.month\n",
    "df[\"month\"].unique()"
   ]
  },
  {
   "cell_type": "code",
   "execution_count": 123,
   "id": "0061ff57",
   "metadata": {},
   "outputs": [],
   "source": [
    "# Setting our training and target variables\n",
    "X = df.drop([\"CRASH DATE\", \"CRASH TIME\", \"BOROUGH\", \"year\", \"month\"], axis=1)\n",
    "y = df[\"BOROUGH\"]"
   ]
  },
  {
   "cell_type": "code",
   "execution_count": 124,
   "id": "48034c02",
   "metadata": {},
   "outputs": [],
   "source": [
    "#Splitting our dataset for training (80%) and testing (20%). Using a random state to keep values constant.\n",
    "X_train, X_test, y_train, y_test = train_test_split(X, y, test_size = 0.2, random_state=42)"
   ]
  },
  {
   "cell_type": "markdown",
   "id": "ae1cbd51",
   "metadata": {},
   "source": [
    "## Logistic Regression"
   ]
  },
  {
   "cell_type": "code",
   "execution_count": 125,
   "id": "33158da1",
   "metadata": {},
   "outputs": [],
   "source": [
    "#Model instantiation\n",
    "logreg = LogisticRegression()"
   ]
  },
  {
   "cell_type": "code",
   "execution_count": 126,
   "id": "2b7833c1",
   "metadata": {},
   "outputs": [
    {
     "data": {
      "text/plain": [
       "LogisticRegression()"
      ]
     },
     "execution_count": 126,
     "metadata": {},
     "output_type": "execute_result"
    }
   ],
   "source": [
    "#Model fitting\n",
    "logreg.fit(X_train, y_train)"
   ]
  },
  {
   "cell_type": "code",
   "execution_count": 127,
   "id": "45a369b0",
   "metadata": {},
   "outputs": [
    {
     "name": "stdout",
     "output_type": "stream",
     "text": [
      "0.5578996549741231\n"
     ]
    }
   ],
   "source": [
    "#Making a class predictions for the training set\n",
    "y_pred_train = logreg.predict(X_train)\n",
    "print(accuracy_score(y_train, y_pred_train))"
   ]
  },
  {
   "cell_type": "code",
   "execution_count": 128,
   "id": "383eecfe",
   "metadata": {},
   "outputs": [
    {
     "name": "stdout",
     "output_type": "stream",
     "text": [
      "0.5605232892466935\n"
     ]
    }
   ],
   "source": [
    "#Making a class predictions for the testing set\n",
    "y_pred_test = logreg.predict(X_test)\n",
    "\n",
    "#Checking our model accuracy\n",
    "print(accuracy_score(y_test, y_pred_test))"
   ]
  },
  {
   "cell_type": "markdown",
   "id": "dd52db59",
   "metadata": {},
   "source": [
    "#### What does the score measure?\n",
    "- The score of our Logistic Regression Model is 0.56 (56%). It means that the model will predict the right borough 56% of the time."
   ]
  },
  {
   "cell_type": "markdown",
   "id": "d2edcd3b",
   "metadata": {},
   "source": [
    "#### Is the model overfitting, underfitting or neither?\n",
    "- Since both the training accuracy and test accuracy are close and not low, the model is neither overfitting nor underfitting."
   ]
  },
  {
   "cell_type": "markdown",
   "id": "b487f9af",
   "metadata": {},
   "source": [
    "### Confusion Matrix"
   ]
  },
  {
   "cell_type": "code",
   "execution_count": 129,
   "id": "9e1c1a17",
   "metadata": {},
   "outputs": [
    {
     "name": "stdout",
     "output_type": "stream",
     "text": [
      "[[ 132    0   71  767    5]\n",
      " [   0 2060   94   83   29]\n",
      " [   1  487  147  968    6]\n",
      " [   0  112  125 1560   19]\n",
      " [   0  279    1   10    0]]\n"
     ]
    }
   ],
   "source": [
    "cm = confusion_matrix(y_test, y_pred_test)\n",
    "print(cm)"
   ]
  },
  {
   "cell_type": "code",
   "execution_count": 130,
   "id": "bcd7873e",
   "metadata": {},
   "outputs": [
    {
     "data": {
      "image/png": "[encoded data removed]",
      "text/plain": [
       "<Figure size 1080x576 with 2 Axes>"
      ]
     },
     "metadata": {
      "needs_background": "light"
     },
     "output_type": "display_data"
    }
   ],
   "source": [
    "fig, ax = plt.subplots(figsize=(15,8))\n",
    "plot_confusion_matrix(logreg, X_test, y_test, ax=ax)\n",
    "plt.grid(False)"
   ]
  },
  {
   "cell_type": "markdown",
   "id": "a3874756",
   "metadata": {},
   "source": [
    "### Classification Report of our Model"
   ]
  },
  {
   "cell_type": "code",
   "execution_count": 131,
   "id": "013f6c8a",
   "metadata": {},
   "outputs": [
    {
     "name": "stdout",
     "output_type": "stream",
     "text": [
      "               precision    recall  f1-score   support\n",
      "\n",
      "        BRONX       0.99      0.14      0.24       975\n",
      "     BROOKLYN       0.70      0.91      0.79      2266\n",
      "    MANHATTAN       0.34      0.09      0.14      1609\n",
      "       QUEENS       0.46      0.86      0.60      1816\n",
      "STATEN ISLAND       0.00      0.00      0.00       290\n",
      "\n",
      "     accuracy                           0.56      6956\n",
      "    macro avg       0.50      0.40      0.35      6956\n",
      " weighted avg       0.57      0.56      0.48      6956\n",
      "\n"
     ]
    }
   ],
   "source": [
    "#Classification report of our model\n",
    "print(classification_report(y_test, y_pred_test))"
   ]
  },
  {
   "cell_type": "markdown",
   "id": "bde0ede8",
   "metadata": {},
   "source": [
    "## Neural Network"
   ]
  },
  {
   "cell_type": "code",
   "execution_count": 132,
   "id": "b16e4013",
   "metadata": {},
   "outputs": [
    {
     "data": {
      "text/plain": [
       "MLPClassifier(hidden_layer_sizes=(12, 6), max_iter=10)"
      ]
     },
     "execution_count": 132,
     "metadata": {},
     "output_type": "execute_result"
    }
   ],
   "source": [
    "# Using sklearn to to train a Neural Network (MLP Classifier) on the training set\n",
    "nn = MLPClassifier(hidden_layer_sizes=(12, 6), max_iter=10)\n",
    "nn.fit(X_train, y_train)"
   ]
  },
  {
   "cell_type": "code",
   "execution_count": 133,
   "id": "c0550e77",
   "metadata": {},
   "outputs": [
    {
     "name": "stdout",
     "output_type": "stream",
     "text": [
      "0.3171362852213916\n"
     ]
    }
   ],
   "source": [
    "#Making a class predictions for the training set\n",
    "y_pred_train = nn.predict(X_train)\n",
    "print(accuracy_score(y_train, y_pred_train))"
   ]
  },
  {
   "cell_type": "code",
   "execution_count": 134,
   "id": "82208647",
   "metadata": {},
   "outputs": [
    {
     "name": "stdout",
     "output_type": "stream",
     "text": [
      "0.3257619321449109\n"
     ]
    }
   ],
   "source": [
    "#Making a class predictions for the testing set\n",
    "y_pred_test = nn.predict(X_test)\n",
    "\n",
    "#Checking our model accuracy\n",
    "print(accuracy_score(y_test, y_pred_test))"
   ]
  },
  {
   "cell_type": "markdown",
   "id": "eeda57d9",
   "metadata": {},
   "source": [
    "#### What does the score measure?\n",
    "- The score of our Neural Network Model is 0.32 (32%). It means that the model will predict the right borough 32% of the time."
   ]
  },
  {
   "cell_type": "markdown",
   "id": "c8f3beb1",
   "metadata": {},
   "source": [
    "#### Is the model overfitting, underfitting or neither?\n",
    "If your model does not give good training accuracy you can say your model is underfitting.\n",
    "- Since the training accuracy is not good (>50%), the model is underfitting."
   ]
  },
  {
   "cell_type": "markdown",
   "id": "3fcaac9c",
   "metadata": {},
   "source": [
    "### Confusion Matrix"
   ]
  },
  {
   "cell_type": "code",
   "execution_count": 135,
   "id": "db30415c",
   "metadata": {},
   "outputs": [
    {
     "name": "stdout",
     "output_type": "stream",
     "text": [
      "[[   0  975    0    0    0]\n",
      " [   0 2265    0    1    0]\n",
      " [   0 1609    0    0    0]\n",
      " [   0 1815    0    1    0]\n",
      " [   0  290    0    0    0]]\n"
     ]
    }
   ],
   "source": [
    "cm = confusion_matrix(y_test, y_pred_test)\n",
    "print(cm)"
   ]
  },
  {
   "cell_type": "code",
   "execution_count": 145,
   "id": "36d7093e",
   "metadata": {},
   "outputs": [
    {
     "data": {
      "image/png": "[encoded data removed]",
      "text/plain": [
       "<Figure size 1080x576 with 2 Axes>"
      ]
     },
     "metadata": {
      "needs_background": "light"
     },
     "output_type": "display_data"
    }
   ],
   "source": [
    "fig, ax = plt.subplots(figsize=(15,8))\n",
    "plot_confusion_matrix(nn, X_test, y_test, ax=ax)\n",
    "plt.grid(False)"
   ]
  },
  {
   "cell_type": "markdown",
   "id": "4ea5c5fc",
   "metadata": {},
   "source": [
    "### Classification Report of our Model"
   ]
  },
  {
   "cell_type": "code",
   "execution_count": 137,
   "id": "339383ff",
   "metadata": {},
   "outputs": [
    {
     "name": "stdout",
     "output_type": "stream",
     "text": [
      "               precision    recall  f1-score   support\n",
      "\n",
      "        BRONX       0.00      0.00      0.00       975\n",
      "     BROOKLYN       0.33      1.00      0.49      2266\n",
      "    MANHATTAN       0.00      0.00      0.00      1609\n",
      "       QUEENS       0.50      0.00      0.00      1816\n",
      "STATEN ISLAND       0.00      0.00      0.00       290\n",
      "\n",
      "     accuracy                           0.33      6956\n",
      "    macro avg       0.17      0.20      0.10      6956\n",
      " weighted avg       0.24      0.33      0.16      6956\n",
      "\n"
     ]
    }
   ],
   "source": [
    "#Classification report of our model\n",
    "print(classification_report(y_test, y_pred_test))"
   ]
  },
  {
   "cell_type": "markdown",
   "id": "5e93ea2d",
   "metadata": {},
   "source": [
    "## K-Nearest Neighbors"
   ]
  },
  {
   "cell_type": "code",
   "execution_count": 138,
   "id": "b055e5b2",
   "metadata": {},
   "outputs": [
    {
     "data": {
      "text/plain": [
       "KNeighborsClassifier()"
      ]
     },
     "execution_count": 138,
     "metadata": {},
     "output_type": "execute_result"
    }
   ],
   "source": [
    "# Using sklearn to 'train' a k-Neighbors Classifier\n",
    "# Note: KNN is a nonparametric model and technically doesn't require training\n",
    "# fit will essentially load the data into the model see link below for more information\n",
    "# https://stats.stackexchange.com/questions/349842/why-do-we-need-to-fit-a-k-nearest-neighbors-classifier\n",
    "k_neighbors = KNeighborsClassifier(n_neighbors=5)\n",
    "k_neighbors.fit(X_train, y_train)"
   ]
  },
  {
   "cell_type": "code",
   "execution_count": 139,
   "id": "754c4b6a",
   "metadata": {},
   "outputs": [
    {
     "name": "stdout",
     "output_type": "stream",
     "text": [
      "0.9777530189764232\n"
     ]
    }
   ],
   "source": [
    "#Making a class predictions for the training set\n",
    "y_pred_train = k_neighbors.predict(X_train)\n",
    "print(accuracy_score(y_train, y_pred_train))"
   ]
  },
  {
   "cell_type": "code",
   "execution_count": 140,
   "id": "4d1a3ce7",
   "metadata": {},
   "outputs": [
    {
     "name": "stdout",
     "output_type": "stream",
     "text": [
      "0.9751293847038528\n"
     ]
    }
   ],
   "source": [
    "#Making a class predictions for the testing set\n",
    "y_pred_test = k_neighbors.predict(X_test)\n",
    "\n",
    "#Checking our model accuracy\n",
    "print(accuracy_score(y_test, y_pred_test))"
   ]
  },
  {
   "cell_type": "markdown",
   "id": "2a14c5ae",
   "metadata": {},
   "source": [
    "#### What does the score measure?\n",
    "- The score of our K-Nearest Neighbors model (with n_neighbors = 5) is 0.97 (97%). It means that the model will predict the right borough 97% of the time."
   ]
  },
  {
   "cell_type": "markdown",
   "id": "bc4d612e",
   "metadata": {},
   "source": [
    "#### Is the model overfitting, underfitting or neither?\n",
    "- Since both the training accuracy and test accuracy are close and not low, the model is neither overfitting nor underfitting."
   ]
  },
  {
   "cell_type": "markdown",
   "id": "7da738fb",
   "metadata": {},
   "source": [
    "### Confusion Matrix"
   ]
  },
  {
   "cell_type": "code",
   "execution_count": 141,
   "id": "5309819e",
   "metadata": {},
   "outputs": [
    {
     "name": "stdout",
     "output_type": "stream",
     "text": [
      "[[ 933   31    9    2    0]\n",
      " [   1 2250    4   11    0]\n",
      " [   3   41 1561    4    0]\n",
      " [   3   47    4 1762    0]\n",
      " [   0    8    4    1  277]]\n"
     ]
    }
   ],
   "source": [
    "cm = confusion_matrix(y_test, y_pred_test)\n",
    "print(cm)"
   ]
  },
  {
   "cell_type": "code",
   "execution_count": 142,
   "id": "2bbc91e3",
   "metadata": {},
   "outputs": [
    {
     "data": {
      "image/png": "[encoded data removed]",
      "text/plain": [
       "<Figure size 1080x576 with 2 Axes>"
      ]
     },
     "metadata": {
      "needs_background": "light"
     },
     "output_type": "display_data"
    }
   ],
   "source": [
    "fig, ax = plt.subplots(figsize=(15,8))\n",
    "plot_confusion_matrix(k_neighbors, X_test, y_test, ax=ax)\n",
    "plt.grid(False)"
   ]
  },
  {
   "cell_type": "markdown",
   "id": "f186202c",
   "metadata": {},
   "source": [
    "### Classification Report of our Model"
   ]
  },
  {
   "cell_type": "code",
   "execution_count": 143,
   "id": "0ed708e5",
   "metadata": {},
   "outputs": [
    {
     "name": "stdout",
     "output_type": "stream",
     "text": [
      "               precision    recall  f1-score   support\n",
      "\n",
      "        BRONX       0.99      0.96      0.97       975\n",
      "     BROOKLYN       0.95      0.99      0.97      2266\n",
      "    MANHATTAN       0.99      0.97      0.98      1609\n",
      "       QUEENS       0.99      0.97      0.98      1816\n",
      "STATEN ISLAND       1.00      0.96      0.98       290\n",
      "\n",
      "     accuracy                           0.98      6956\n",
      "    macro avg       0.98      0.97      0.98      6956\n",
      " weighted avg       0.98      0.98      0.98      6956\n",
      "\n"
     ]
    }
   ],
   "source": [
    "#Classification report of our model\n",
    "print(classification_report(y_test, y_pred_test))"
   ]
  }
 ],
 "metadata": {
  "kernelspec": {
   "display_name": "Python 3 (ipykernel)",
   "language": "python",
   "name": "python3"
  },
  "language_info": {
   "codemirror_mode": {
    "name": "ipython",
    "version": 3
   },
   "file_extension": ".py",
   "mimetype": "text/x-python",
   "name": "python",
   "nbconvert_exporter": "python",
   "pygments_lexer": "ipython3",
   "version": "3.8.12"
  }
 },
 "nbformat": 4,
 "nbformat_minor": 5
}
