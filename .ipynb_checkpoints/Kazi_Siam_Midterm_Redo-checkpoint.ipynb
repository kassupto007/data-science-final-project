{
 "cells": [
  {
   "cell_type": "markdown",
   "metadata": {
    "id": "GvhPnAnOVOCz"
   },
   "source": [
    "# CSC 46000 Introduction to Data Science Fall 2021 Midterm\n",
    "\n",
    "This is a 120 minute exam. Please use your time wisely. \n",
    "\n",
    "**You may consult your notes, lecture slides, labs, projects, and online resources.** Academic dishonesty is prohibited in The City University of New York. Penalties for academic dishonesty include academic sanctions, such as failing or otherwise reduced grades, and/or disciplinary sanctions, including suspension or expulsion."
   ]
  },
  {
   "cell_type": "markdown",
   "metadata": {
    "id": "MWjpxWH2Vzur"
   },
   "source": [
    "## Question 1 (30pts)\n",
    "\n",
    "**Describe a data science question that will help you solve each problem.**"
   ]
  },
  {
   "cell_type": "markdown",
   "metadata": {
    "id": "huo_88EXXMPD"
   },
   "source": [
    "### 1A (10pts) (7/10) (No change)\n",
    "Since the pandemic started, there has been an increase in rat complaints in New York City. (See [Return of the Rats: Budget Cuts Means a Free Lunch for Rodents](https://www.thecity.nyc/2020/8/9/21360846/budget-cuts-new-york-city-rats-rodents).) The Department of Sanitation wants to make the streets cleaner and safer for pedestrians.\n",
    "\n",
    "\n",
    "* How much rat-related complaints have increased after the New York City budget cuts? Is there a direct correlation between budget cuts and increased rat-related complaints? \n",
    "\n",
    "* Explanation of why I picked those questions: I’ll analyze pre-pandemic data and after-budget cut data and see if the number of complaints is indeed increasing. If it is, then NYC should spend more money on the Department of Sanitation."
   ]
  },
  {
   "cell_type": "markdown",
   "metadata": {
    "id": "x4Ul-u3SW-Kc"
   },
   "source": [
    "### 1B (10pts) (7/10) (No change)\n",
    "\n",
    "The marketing team at Old Navy wants to increase the number of people who click on a link to buy something in their emails.\n",
    "\n",
    "* How much time do individuals who visit the website via email links spend on the website? Is it more likely that the individual would buy something if he/she spend more time on it? Are there any features about the website that people are using more than others? \n",
    "\n",
    "* Explanation of why I picked those questions: I will analyze if there is a direct correlation between the time visitors stay on the website and if they buy something. I will also analyze which features in the website visitors are interacting with most so that we would add more similar features."
   ]
  },
  {
   "cell_type": "markdown",
   "metadata": {
    "id": "SjHYhPdwXNjA"
   },
   "source": [
    "### 1C (10pts) (7/10) (No change)\n",
    "\n",
    "The CUNY library wants to increase the number of students who check out a book.\n",
    "\n",
    "\n",
    "* How many students check out a clean book? Is a direct corelation between the number of students who check out a clear book and the number of students who check out a dirty book? \n",
    "\n",
    "* Explanation of why I picked those questions: I’ll analyze the data of the number of students who check out a clear book vs the number of students who check out a dirty book. I’ll analyze if students prefer their books to be clean or they don’t care about the appearance of the book. If students prefer clean books then library should provide more clean books"
   ]
  },
  {
   "cell_type": "markdown",
   "metadata": {
    "id": "QrSvaOtnV63B"
   },
   "source": [
    "## Question 2 (30 pts)\n",
    "\n",
    "Natalia is an quantitative analyst at Starbucks and has been asked to\n",
    "estimate the total amount each customer that visits a Starbucks location during the last week in November will spend during the month of December. "
   ]
  },
  {
   "cell_type": "markdown",
   "metadata": {
    "id": "WNyJ3R57dTn5"
   },
   "source": [
    "### 2A (10pts)    \n",
    "\n",
    "**What model would you choose to solve this problem? Why would you choose this model? (2-3 sentences.)**\n",
    "\n",
    "##### Previous answer (9/10)\n",
    "I would choose Regression to solve this problem. It is because she is predicting a continuous quantity.\n",
    "\n",
    "##### New answer\n",
    "I would choose a linear regression model to solve this problem. It is because Natalia is trying to estimate the total amount, which falls under the “how much?” type of question. Therefore, a linear regression model would help determine the total amount."
   ]
  },
  {
   "cell_type": "markdown",
   "metadata": {
    "id": "7kDpRZrLdgP0"
   },
   "source": [
    "### 2B (10pts)\n",
    "**Describe two features that might be helpful in predicting the target\n",
    "along with a short reason why you think this might help Natalia solve the\n",
    "problem.**\n",
    "\n",
    "##### Previous answer (8/10)\n",
    "* Previous years data of each customer from November and December - analyze the total amount each customer that visits a Starbucks location during the last week in previous Novembers spent during the month of December\n",
    "* Previous years data of Weather - analyze if weather plays a factor.\n",
    "\n",
    "##### New answer \n",
    "The two features that might help predict the target are the item ordered and the temperature outside. Item ordered and the temperature outside would help Natalia solve the problem because what items bought the most in certain weather determines the total amount customers would spend in a certain month. There is a certain relationship between weather, seasons, and months. For example, if there was a freezing day in the last week of November where customers bought large hot lattes, these customers might buy large hot lattes in December, since days are colder in December than in November."
   ]
  },
  {
   "cell_type": "markdown",
   "metadata": {
    "id": "nEcVvX7jdv8_"
   },
   "source": [
    "### 2C (10pts) (8/10) (No Change)\n",
    "\n",
    "**How might Starbucks want to use this model, and in what way might this model\n",
    "be wrong, but useful?**\n",
    "\n",
    "* Starbucks would use this model to determine the total amount each customer that visits a Starbucks location during the last week of November will spend during the month of December. This might be useful for them to see if their revenue increases in the month of December compare to the month of November. And if they can do better by providing new tasty drinks or food. \n"
   ]
  },
  {
   "cell_type": "markdown",
   "metadata": {
    "id": "9GPlSw7YV8QA"
   },
   "source": [
    "## Question 3 (30 pts)\n",
    "\n",
    "Wei is a data scientist at Hinge, a dating app, and has built a model to\n",
    "predict whether couples that went on a first date in the first week of September will go on a second date or break up. \n",
    "\n",
    "After training his model, he applies it to the validation set of 100 couples and predicts that 30 couples will go on second dates. \n",
    "\n",
    "However, he finds that of the 30 couples he predicted would go on second dates, only 20 did and 10 broke up. He also realizes that 45 of the couples in total went on a second date and the other 55 broke up."
   ]
  },
  {
   "cell_type": "markdown",
   "metadata": {
    "id": "b_gg3QFoZfaj"
   },
   "source": [
    "### 3A (10 pts)\n",
    "**Complete the confusion matrix for the model.**"
   ]
  },
  {
   "cell_type": "markdown",
   "metadata": {
    "id": "0UVmfsiOZr-H"
   },
   "source": [
    "*FILL IN THE TABLE BELOW FOR 3A.*\n",
    "##### Previous answer (9/10)\n",
    "```\n",
    "\n",
    "+----+----+----+----+----+\n",
    "| TN = 45   |  FP = 10   |\n",
    "+----+----+----+----+----+\n",
    "| FN = 25   |  TP = 20   |\n",
    "+----+----+----+----+----+\n",
    "\n",
    "\n",
    "```\n",
    "\n",
    "##### New answer\n",
    "```\n",
    "\n",
    "+----+----+----+----+----+\n",
    "| TP = 20   |  FP = 10   |\n",
    "+----+----+----+----+----+\n",
    "| FN = 25   |  TN = 45   |\n",
    "+----+----+----+----+----+\n",
    "\n",
    "\n",
    "```"
   ]
  },
  {
   "cell_type": "markdown",
   "metadata": {
    "id": "scfM0IHsZYfV"
   },
   "source": [
    "### 3B (10pts) (No Change) (10/10)\n",
    "**What is the accuracy of the model?**"
   ]
  },
  {
   "cell_type": "code",
   "execution_count": 2,
   "metadata": {
    "colab": {
     "base_uri": "https://localhost:8080/"
    },
    "id": "JzlB6blgcZ2w",
    "outputId": "d3b7f2a4-61b2-4875-b7ea-2503f7011619"
   },
   "outputs": [
    {
     "data": {
      "text/plain": [
       "0.65"
      ]
     },
     "execution_count": 2,
     "metadata": {},
     "output_type": "execute_result"
    }
   ],
   "source": [
    "tp = 20\n",
    "tn = 45\n",
    "fn = 25\n",
    "fp = 10\n",
    "accuracy = (tp+tn)/100\n",
    "accuracy"
   ]
  },
  {
   "cell_type": "markdown",
   "metadata": {
    "id": "HpAoZ2sscPX-"
   },
   "source": [
    "0.65"
   ]
  },
  {
   "cell_type": "markdown",
   "metadata": {
    "id": "4TM-gXGrZg3H"
   },
   "source": [
    "### 3C (10 pts)  (No Change) (10/10)\n",
    "**What is the F1 score for the model?**"
   ]
  },
  {
   "cell_type": "code",
   "execution_count": 3,
   "metadata": {
    "colab": {
     "base_uri": "https://localhost:8080/"
    },
    "id": "O4iXesTncb73",
    "outputId": "1f5a7baf-92ac-4ba4-a0da-15356a9b7037"
   },
   "outputs": [
    {
     "data": {
      "text/plain": [
       "0.5333333333333333"
      ]
     },
     "execution_count": 3,
     "metadata": {},
     "output_type": "execute_result"
    }
   ],
   "source": [
    "precision = tp/(tp+fp)\n",
    "recall = tp/(tp+fn)\n",
    "f1 = 2 * ((precision * recall)/ (precision + recall))\n",
    "f1"
   ]
  },
  {
   "cell_type": "markdown",
   "metadata": {
    "id": "McvM7-CscfY0"
   },
   "source": [
    "0.53"
   ]
  },
  {
   "cell_type": "markdown",
   "metadata": {
    "id": "UE69YdzDV3yP"
   },
   "source": [
    "## Question 4 (40 pts)\n",
    "\n",
    "The Metropolitan Museum of Art presents over 5,000 years of art from around the world for everyone to experience and enjoy. The Metropolitan Museum of Art creates, organizes, and disseminates a broad range of digital images and data that document the rich history of the Museum, its collection, exhibitions, events, people, and activities. It makes available data from the entire online collection including basic information such as title, artist, date, medium, and dimensions. \n",
    "\n",
    "This is the data dictionary for this dataset: https://metmuseum.github.io/."
   ]
  },
  {
   "cell_type": "markdown",
   "metadata": {
    "id": "u84i1UJUQkkq"
   },
   "source": [
    "### 4A (10 pts) (Score: 5/10)\n",
    "\n",
    "Before using this data to build a model, we have to do some cleaning and wrangling. Let's start with the `Country` column. **How many objects in the collection are from the United States?**"
   ]
  },
  {
   "cell_type": "code",
   "execution_count": 26,
   "metadata": {
    "colab": {
     "base_uri": "https://localhost:8080/",
     "height": 1000
    },
    "id": "-rTVFS8_5PX8",
    "outputId": "1ee84b16-9433-47a1-fb72-855fe9867a7d"
   },
   "outputs": [
    {
     "name": "stderr",
     "output_type": "stream",
     "text": [
      "C:\\Users\\kazis\\anaconda3\\lib\\site-packages\\IPython\\core\\interactiveshell.py:3165: DtypeWarning: Columns (5,7,10,11,12,13,14,34,35,36,37,38,39,40,41,42,43,44,45,46) have mixed types.Specify dtype option on import or set low_memory=False.\n",
      "  has_raised = await self.run_ast_nodes(code_ast.body, cell_name,\n"
     ]
    },
    {
     "data": {
      "text/html": [
       "<div>\n",
       "<style scoped>\n",
       "    .dataframe tbody tr th:only-of-type {\n",
       "        vertical-align: middle;\n",
       "    }\n",
       "\n",
       "    .dataframe tbody tr th {\n",
       "        vertical-align: top;\n",
       "    }\n",
       "\n",
       "    .dataframe thead th {\n",
       "        text-align: right;\n",
       "    }\n",
       "</style>\n",
       "<table border=\"1\" class=\"dataframe\">\n",
       "  <thead>\n",
       "    <tr style=\"text-align: right;\">\n",
       "      <th></th>\n",
       "      <th>0</th>\n",
       "      <th>1</th>\n",
       "      <th>2</th>\n",
       "      <th>3</th>\n",
       "      <th>4</th>\n",
       "    </tr>\n",
       "  </thead>\n",
       "  <tbody>\n",
       "    <tr>\n",
       "      <th>Object Number</th>\n",
       "      <td>1979.486.1</td>\n",
       "      <td>1980.264.5</td>\n",
       "      <td>67.265.9</td>\n",
       "      <td>67.265.10</td>\n",
       "      <td>67.265.11</td>\n",
       "    </tr>\n",
       "    <tr>\n",
       "      <th>Is Highlight</th>\n",
       "      <td>False</td>\n",
       "      <td>False</td>\n",
       "      <td>False</td>\n",
       "      <td>False</td>\n",
       "      <td>False</td>\n",
       "    </tr>\n",
       "    <tr>\n",
       "      <th>Is Timeline Work</th>\n",
       "      <td>False</td>\n",
       "      <td>False</td>\n",
       "      <td>False</td>\n",
       "      <td>False</td>\n",
       "      <td>False</td>\n",
       "    </tr>\n",
       "    <tr>\n",
       "      <th>Is Public Domain</th>\n",
       "      <td>False</td>\n",
       "      <td>False</td>\n",
       "      <td>False</td>\n",
       "      <td>False</td>\n",
       "      <td>False</td>\n",
       "    </tr>\n",
       "    <tr>\n",
       "      <th>Object ID</th>\n",
       "      <td>1</td>\n",
       "      <td>2</td>\n",
       "      <td>3</td>\n",
       "      <td>4</td>\n",
       "      <td>5</td>\n",
       "    </tr>\n",
       "    <tr>\n",
       "      <th>Gallery Number</th>\n",
       "      <td>NaN</td>\n",
       "      <td>NaN</td>\n",
       "      <td>NaN</td>\n",
       "      <td>NaN</td>\n",
       "      <td>NaN</td>\n",
       "    </tr>\n",
       "    <tr>\n",
       "      <th>Department</th>\n",
       "      <td>The American Wing</td>\n",
       "      <td>The American Wing</td>\n",
       "      <td>The American Wing</td>\n",
       "      <td>The American Wing</td>\n",
       "      <td>The American Wing</td>\n",
       "    </tr>\n",
       "    <tr>\n",
       "      <th>AccessionYear</th>\n",
       "      <td>1979.0</td>\n",
       "      <td>1980.0</td>\n",
       "      <td>1967.0</td>\n",
       "      <td>1967.0</td>\n",
       "      <td>1967.0</td>\n",
       "    </tr>\n",
       "    <tr>\n",
       "      <th>Object Name</th>\n",
       "      <td>Coin</td>\n",
       "      <td>Coin</td>\n",
       "      <td>Coin</td>\n",
       "      <td>Coin</td>\n",
       "      <td>Coin</td>\n",
       "    </tr>\n",
       "    <tr>\n",
       "      <th>Title</th>\n",
       "      <td>One-dollar Liberty Head Coin</td>\n",
       "      <td>Ten-dollar Liberty Head Coin</td>\n",
       "      <td>Two-and-a-Half Dollar Coin</td>\n",
       "      <td>Two-and-a-Half Dollar Coin</td>\n",
       "      <td>Two-and-a-Half Dollar Coin</td>\n",
       "    </tr>\n",
       "    <tr>\n",
       "      <th>Culture</th>\n",
       "      <td>NaN</td>\n",
       "      <td>NaN</td>\n",
       "      <td>NaN</td>\n",
       "      <td>NaN</td>\n",
       "      <td>NaN</td>\n",
       "    </tr>\n",
       "    <tr>\n",
       "      <th>Period</th>\n",
       "      <td>NaN</td>\n",
       "      <td>NaN</td>\n",
       "      <td>NaN</td>\n",
       "      <td>NaN</td>\n",
       "      <td>NaN</td>\n",
       "    </tr>\n",
       "    <tr>\n",
       "      <th>Dynasty</th>\n",
       "      <td>NaN</td>\n",
       "      <td>NaN</td>\n",
       "      <td>NaN</td>\n",
       "      <td>NaN</td>\n",
       "      <td>NaN</td>\n",
       "    </tr>\n",
       "    <tr>\n",
       "      <th>Reign</th>\n",
       "      <td>NaN</td>\n",
       "      <td>NaN</td>\n",
       "      <td>NaN</td>\n",
       "      <td>NaN</td>\n",
       "      <td>NaN</td>\n",
       "    </tr>\n",
       "    <tr>\n",
       "      <th>Portfolio</th>\n",
       "      <td>NaN</td>\n",
       "      <td>NaN</td>\n",
       "      <td>NaN</td>\n",
       "      <td>NaN</td>\n",
       "      <td>NaN</td>\n",
       "    </tr>\n",
       "    <tr>\n",
       "      <th>Constituent ID</th>\n",
       "      <td>16429</td>\n",
       "      <td>107</td>\n",
       "      <td>NaN</td>\n",
       "      <td>NaN</td>\n",
       "      <td>NaN</td>\n",
       "    </tr>\n",
       "    <tr>\n",
       "      <th>Artist Role</th>\n",
       "      <td>Maker</td>\n",
       "      <td>Maker</td>\n",
       "      <td>NaN</td>\n",
       "      <td>NaN</td>\n",
       "      <td>NaN</td>\n",
       "    </tr>\n",
       "    <tr>\n",
       "      <th>Artist Prefix</th>\n",
       "      <td></td>\n",
       "      <td></td>\n",
       "      <td>NaN</td>\n",
       "      <td>NaN</td>\n",
       "      <td>NaN</td>\n",
       "    </tr>\n",
       "    <tr>\n",
       "      <th>Artist Display Name</th>\n",
       "      <td>James Barton Longacre</td>\n",
       "      <td>Christian Gobrecht</td>\n",
       "      <td>NaN</td>\n",
       "      <td>NaN</td>\n",
       "      <td>NaN</td>\n",
       "    </tr>\n",
       "    <tr>\n",
       "      <th>Artist Display Bio</th>\n",
       "      <td>American, Delaware County, Pennsylvania 1794–1...</td>\n",
       "      <td>1785–1844</td>\n",
       "      <td>NaN</td>\n",
       "      <td>NaN</td>\n",
       "      <td>NaN</td>\n",
       "    </tr>\n",
       "    <tr>\n",
       "      <th>Artist Suffix</th>\n",
       "      <td></td>\n",
       "      <td></td>\n",
       "      <td>NaN</td>\n",
       "      <td>NaN</td>\n",
       "      <td>NaN</td>\n",
       "    </tr>\n",
       "    <tr>\n",
       "      <th>Artist Alpha Sort</th>\n",
       "      <td>Longacre, James Barton</td>\n",
       "      <td>Gobrecht, Christian</td>\n",
       "      <td>NaN</td>\n",
       "      <td>NaN</td>\n",
       "      <td>NaN</td>\n",
       "    </tr>\n",
       "    <tr>\n",
       "      <th>Artist Nationality</th>\n",
       "      <td>American</td>\n",
       "      <td></td>\n",
       "      <td>NaN</td>\n",
       "      <td>NaN</td>\n",
       "      <td>NaN</td>\n",
       "    </tr>\n",
       "    <tr>\n",
       "      <th>Artist Begin Date</th>\n",
       "      <td>1794</td>\n",
       "      <td>1785</td>\n",
       "      <td>NaN</td>\n",
       "      <td>NaN</td>\n",
       "      <td>NaN</td>\n",
       "    </tr>\n",
       "    <tr>\n",
       "      <th>Artist End Date</th>\n",
       "      <td>1869</td>\n",
       "      <td>1844</td>\n",
       "      <td>NaN</td>\n",
       "      <td>NaN</td>\n",
       "      <td>NaN</td>\n",
       "    </tr>\n",
       "    <tr>\n",
       "      <th>Artist Gender</th>\n",
       "      <td>NaN</td>\n",
       "      <td>NaN</td>\n",
       "      <td>NaN</td>\n",
       "      <td>NaN</td>\n",
       "      <td>NaN</td>\n",
       "    </tr>\n",
       "    <tr>\n",
       "      <th>Artist ULAN URL</th>\n",
       "      <td>http://vocab.getty.edu/page/ulan/500011409</td>\n",
       "      <td>http://vocab.getty.edu/page/ulan/500077295</td>\n",
       "      <td>NaN</td>\n",
       "      <td>NaN</td>\n",
       "      <td>NaN</td>\n",
       "    </tr>\n",
       "    <tr>\n",
       "      <th>Artist Wikidata URL</th>\n",
       "      <td>https://www.wikidata.org/wiki/Q3806459</td>\n",
       "      <td>https://www.wikidata.org/wiki/Q5109648</td>\n",
       "      <td>NaN</td>\n",
       "      <td>NaN</td>\n",
       "      <td>NaN</td>\n",
       "    </tr>\n",
       "    <tr>\n",
       "      <th>Object Date</th>\n",
       "      <td>1853</td>\n",
       "      <td>1901</td>\n",
       "      <td>1909–27</td>\n",
       "      <td>1909–27</td>\n",
       "      <td>1909–27</td>\n",
       "    </tr>\n",
       "    <tr>\n",
       "      <th>Object Begin Date</th>\n",
       "      <td>1853</td>\n",
       "      <td>1901</td>\n",
       "      <td>1909</td>\n",
       "      <td>1909</td>\n",
       "      <td>1909</td>\n",
       "    </tr>\n",
       "    <tr>\n",
       "      <th>Object End Date</th>\n",
       "      <td>1853</td>\n",
       "      <td>1901</td>\n",
       "      <td>1927</td>\n",
       "      <td>1927</td>\n",
       "      <td>1927</td>\n",
       "    </tr>\n",
       "    <tr>\n",
       "      <th>Medium</th>\n",
       "      <td>Gold</td>\n",
       "      <td>Gold</td>\n",
       "      <td>Gold</td>\n",
       "      <td>Gold</td>\n",
       "      <td>Gold</td>\n",
       "    </tr>\n",
       "    <tr>\n",
       "      <th>Dimensions</th>\n",
       "      <td>Dimensions unavailable</td>\n",
       "      <td>Dimensions unavailable</td>\n",
       "      <td>Diam. 11/16 in. (1.7 cm)</td>\n",
       "      <td>Diam. 11/16 in. (1.7 cm)</td>\n",
       "      <td>Diam. 11/16 in. (1.7 cm)</td>\n",
       "    </tr>\n",
       "    <tr>\n",
       "      <th>Credit Line</th>\n",
       "      <td>Gift of Heinz L. Stoppelmann, 1979</td>\n",
       "      <td>Gift of Heinz L. Stoppelmann, 1980</td>\n",
       "      <td>Gift of C. Ruxton Love Jr., 1967</td>\n",
       "      <td>Gift of C. Ruxton Love Jr., 1967</td>\n",
       "      <td>Gift of C. Ruxton Love Jr., 1967</td>\n",
       "    </tr>\n",
       "    <tr>\n",
       "      <th>Geography Type</th>\n",
       "      <td>NaN</td>\n",
       "      <td>NaN</td>\n",
       "      <td>NaN</td>\n",
       "      <td>NaN</td>\n",
       "      <td>NaN</td>\n",
       "    </tr>\n",
       "    <tr>\n",
       "      <th>City</th>\n",
       "      <td>NaN</td>\n",
       "      <td>NaN</td>\n",
       "      <td>NaN</td>\n",
       "      <td>NaN</td>\n",
       "      <td>NaN</td>\n",
       "    </tr>\n",
       "    <tr>\n",
       "      <th>State</th>\n",
       "      <td>NaN</td>\n",
       "      <td>NaN</td>\n",
       "      <td>NaN</td>\n",
       "      <td>NaN</td>\n",
       "      <td>NaN</td>\n",
       "    </tr>\n",
       "    <tr>\n",
       "      <th>County</th>\n",
       "      <td>NaN</td>\n",
       "      <td>NaN</td>\n",
       "      <td>NaN</td>\n",
       "      <td>NaN</td>\n",
       "      <td>NaN</td>\n",
       "    </tr>\n",
       "    <tr>\n",
       "      <th>Country</th>\n",
       "      <td>NaN</td>\n",
       "      <td>NaN</td>\n",
       "      <td>NaN</td>\n",
       "      <td>NaN</td>\n",
       "      <td>NaN</td>\n",
       "    </tr>\n",
       "    <tr>\n",
       "      <th>Region</th>\n",
       "      <td>NaN</td>\n",
       "      <td>NaN</td>\n",
       "      <td>NaN</td>\n",
       "      <td>NaN</td>\n",
       "      <td>NaN</td>\n",
       "    </tr>\n",
       "    <tr>\n",
       "      <th>Subregion</th>\n",
       "      <td>NaN</td>\n",
       "      <td>NaN</td>\n",
       "      <td>NaN</td>\n",
       "      <td>NaN</td>\n",
       "      <td>NaN</td>\n",
       "    </tr>\n",
       "    <tr>\n",
       "      <th>Locale</th>\n",
       "      <td>NaN</td>\n",
       "      <td>NaN</td>\n",
       "      <td>NaN</td>\n",
       "      <td>NaN</td>\n",
       "      <td>NaN</td>\n",
       "    </tr>\n",
       "    <tr>\n",
       "      <th>Locus</th>\n",
       "      <td>NaN</td>\n",
       "      <td>NaN</td>\n",
       "      <td>NaN</td>\n",
       "      <td>NaN</td>\n",
       "      <td>NaN</td>\n",
       "    </tr>\n",
       "    <tr>\n",
       "      <th>Excavation</th>\n",
       "      <td>NaN</td>\n",
       "      <td>NaN</td>\n",
       "      <td>NaN</td>\n",
       "      <td>NaN</td>\n",
       "      <td>NaN</td>\n",
       "    </tr>\n",
       "    <tr>\n",
       "      <th>River</th>\n",
       "      <td>NaN</td>\n",
       "      <td>NaN</td>\n",
       "      <td>NaN</td>\n",
       "      <td>NaN</td>\n",
       "      <td>NaN</td>\n",
       "    </tr>\n",
       "    <tr>\n",
       "      <th>Classification</th>\n",
       "      <td>NaN</td>\n",
       "      <td>NaN</td>\n",
       "      <td>NaN</td>\n",
       "      <td>NaN</td>\n",
       "      <td>NaN</td>\n",
       "    </tr>\n",
       "    <tr>\n",
       "      <th>Rights and Reproduction</th>\n",
       "      <td>NaN</td>\n",
       "      <td>NaN</td>\n",
       "      <td>NaN</td>\n",
       "      <td>NaN</td>\n",
       "      <td>NaN</td>\n",
       "    </tr>\n",
       "    <tr>\n",
       "      <th>Link Resource</th>\n",
       "      <td>http://www.metmuseum.org/art/collection/search/1</td>\n",
       "      <td>http://www.metmuseum.org/art/collection/search/2</td>\n",
       "      <td>http://www.metmuseum.org/art/collection/search/3</td>\n",
       "      <td>http://www.metmuseum.org/art/collection/search/4</td>\n",
       "      <td>http://www.metmuseum.org/art/collection/search/5</td>\n",
       "    </tr>\n",
       "    <tr>\n",
       "      <th>Object Wikidata URL</th>\n",
       "      <td>NaN</td>\n",
       "      <td>NaN</td>\n",
       "      <td>NaN</td>\n",
       "      <td>NaN</td>\n",
       "      <td>NaN</td>\n",
       "    </tr>\n",
       "    <tr>\n",
       "      <th>Metadata Date</th>\n",
       "      <td>NaN</td>\n",
       "      <td>NaN</td>\n",
       "      <td>NaN</td>\n",
       "      <td>NaN</td>\n",
       "      <td>NaN</td>\n",
       "    </tr>\n",
       "    <tr>\n",
       "      <th>Repository</th>\n",
       "      <td>Metropolitan Museum of Art, New York, NY</td>\n",
       "      <td>Metropolitan Museum of Art, New York, NY</td>\n",
       "      <td>Metropolitan Museum of Art, New York, NY</td>\n",
       "      <td>Metropolitan Museum of Art, New York, NY</td>\n",
       "      <td>Metropolitan Museum of Art, New York, NY</td>\n",
       "    </tr>\n",
       "    <tr>\n",
       "      <th>Tags</th>\n",
       "      <td>NaN</td>\n",
       "      <td>NaN</td>\n",
       "      <td>NaN</td>\n",
       "      <td>NaN</td>\n",
       "      <td>NaN</td>\n",
       "    </tr>\n",
       "    <tr>\n",
       "      <th>Tags AAT URL</th>\n",
       "      <td>NaN</td>\n",
       "      <td>NaN</td>\n",
       "      <td>NaN</td>\n",
       "      <td>NaN</td>\n",
       "      <td>NaN</td>\n",
       "    </tr>\n",
       "    <tr>\n",
       "      <th>Tags Wikidata URL</th>\n",
       "      <td>NaN</td>\n",
       "      <td>NaN</td>\n",
       "      <td>NaN</td>\n",
       "      <td>NaN</td>\n",
       "      <td>NaN</td>\n",
       "    </tr>\n",
       "  </tbody>\n",
       "</table>\n",
       "</div>"
      ],
      "text/plain": [
       "                                                                         0  \\\n",
       "Object Number                                                   1979.486.1   \n",
       "Is Highlight                                                         False   \n",
       "Is Timeline Work                                                     False   \n",
       "Is Public Domain                                                     False   \n",
       "Object ID                                                                1   \n",
       "Gallery Number                                                         NaN   \n",
       "Department                                               The American Wing   \n",
       "AccessionYear                                                       1979.0   \n",
       "Object Name                                                           Coin   \n",
       "Title                                         One-dollar Liberty Head Coin   \n",
       "Culture                                                                NaN   \n",
       "Period                                                                 NaN   \n",
       "Dynasty                                                                NaN   \n",
       "Reign                                                                  NaN   \n",
       "Portfolio                                                              NaN   \n",
       "Constituent ID                                                       16429   \n",
       "Artist Role                                                          Maker   \n",
       "Artist Prefix                                                                \n",
       "Artist Display Name                                  James Barton Longacre   \n",
       "Artist Display Bio       American, Delaware County, Pennsylvania 1794–1...   \n",
       "Artist Suffix                                                                \n",
       "Artist Alpha Sort                                   Longacre, James Barton   \n",
       "Artist Nationality                                                American   \n",
       "Artist Begin Date                                               1794         \n",
       "Artist End Date                                                 1869         \n",
       "Artist Gender                                                          NaN   \n",
       "Artist ULAN URL                 http://vocab.getty.edu/page/ulan/500011409   \n",
       "Artist Wikidata URL                 https://www.wikidata.org/wiki/Q3806459   \n",
       "Object Date                                                           1853   \n",
       "Object Begin Date                                                     1853   \n",
       "Object End Date                                                       1853   \n",
       "Medium                                                                Gold   \n",
       "Dimensions                                          Dimensions unavailable   \n",
       "Credit Line                             Gift of Heinz L. Stoppelmann, 1979   \n",
       "Geography Type                                                         NaN   \n",
       "City                                                                   NaN   \n",
       "State                                                                  NaN   \n",
       "County                                                                 NaN   \n",
       "Country                                                                NaN   \n",
       "Region                                                                 NaN   \n",
       "Subregion                                                              NaN   \n",
       "Locale                                                                 NaN   \n",
       "Locus                                                                  NaN   \n",
       "Excavation                                                             NaN   \n",
       "River                                                                  NaN   \n",
       "Classification                                                         NaN   \n",
       "Rights and Reproduction                                                NaN   \n",
       "Link Resource             http://www.metmuseum.org/art/collection/search/1   \n",
       "Object Wikidata URL                                                    NaN   \n",
       "Metadata Date                                                          NaN   \n",
       "Repository                        Metropolitan Museum of Art, New York, NY   \n",
       "Tags                                                                   NaN   \n",
       "Tags AAT URL                                                           NaN   \n",
       "Tags Wikidata URL                                                      NaN   \n",
       "\n",
       "                                                                        1  \\\n",
       "Object Number                                                  1980.264.5   \n",
       "Is Highlight                                                        False   \n",
       "Is Timeline Work                                                    False   \n",
       "Is Public Domain                                                    False   \n",
       "Object ID                                                               2   \n",
       "Gallery Number                                                        NaN   \n",
       "Department                                              The American Wing   \n",
       "AccessionYear                                                      1980.0   \n",
       "Object Name                                                          Coin   \n",
       "Title                                        Ten-dollar Liberty Head Coin   \n",
       "Culture                                                               NaN   \n",
       "Period                                                                NaN   \n",
       "Dynasty                                                               NaN   \n",
       "Reign                                                                 NaN   \n",
       "Portfolio                                                             NaN   \n",
       "Constituent ID                                                        107   \n",
       "Artist Role                                                         Maker   \n",
       "Artist Prefix                                                               \n",
       "Artist Display Name                                    Christian Gobrecht   \n",
       "Artist Display Bio                                              1785–1844   \n",
       "Artist Suffix                                                               \n",
       "Artist Alpha Sort                                     Gobrecht, Christian   \n",
       "Artist Nationality                                                          \n",
       "Artist Begin Date                                              1785         \n",
       "Artist End Date                                                1844         \n",
       "Artist Gender                                                         NaN   \n",
       "Artist ULAN URL                http://vocab.getty.edu/page/ulan/500077295   \n",
       "Artist Wikidata URL                https://www.wikidata.org/wiki/Q5109648   \n",
       "Object Date                                                          1901   \n",
       "Object Begin Date                                                    1901   \n",
       "Object End Date                                                      1901   \n",
       "Medium                                                               Gold   \n",
       "Dimensions                                         Dimensions unavailable   \n",
       "Credit Line                            Gift of Heinz L. Stoppelmann, 1980   \n",
       "Geography Type                                                        NaN   \n",
       "City                                                                  NaN   \n",
       "State                                                                 NaN   \n",
       "County                                                                NaN   \n",
       "Country                                                               NaN   \n",
       "Region                                                                NaN   \n",
       "Subregion                                                             NaN   \n",
       "Locale                                                                NaN   \n",
       "Locus                                                                 NaN   \n",
       "Excavation                                                            NaN   \n",
       "River                                                                 NaN   \n",
       "Classification                                                        NaN   \n",
       "Rights and Reproduction                                               NaN   \n",
       "Link Resource            http://www.metmuseum.org/art/collection/search/2   \n",
       "Object Wikidata URL                                                   NaN   \n",
       "Metadata Date                                                         NaN   \n",
       "Repository                       Metropolitan Museum of Art, New York, NY   \n",
       "Tags                                                                  NaN   \n",
       "Tags AAT URL                                                          NaN   \n",
       "Tags Wikidata URL                                                     NaN   \n",
       "\n",
       "                                                                        2  \\\n",
       "Object Number                                                    67.265.9   \n",
       "Is Highlight                                                        False   \n",
       "Is Timeline Work                                                    False   \n",
       "Is Public Domain                                                    False   \n",
       "Object ID                                                               3   \n",
       "Gallery Number                                                        NaN   \n",
       "Department                                              The American Wing   \n",
       "AccessionYear                                                      1967.0   \n",
       "Object Name                                                          Coin   \n",
       "Title                                          Two-and-a-Half Dollar Coin   \n",
       "Culture                                                               NaN   \n",
       "Period                                                                NaN   \n",
       "Dynasty                                                               NaN   \n",
       "Reign                                                                 NaN   \n",
       "Portfolio                                                             NaN   \n",
       "Constituent ID                                                        NaN   \n",
       "Artist Role                                                           NaN   \n",
       "Artist Prefix                                                         NaN   \n",
       "Artist Display Name                                                   NaN   \n",
       "Artist Display Bio                                                    NaN   \n",
       "Artist Suffix                                                         NaN   \n",
       "Artist Alpha Sort                                                     NaN   \n",
       "Artist Nationality                                                    NaN   \n",
       "Artist Begin Date                                                     NaN   \n",
       "Artist End Date                                                       NaN   \n",
       "Artist Gender                                                         NaN   \n",
       "Artist ULAN URL                                                       NaN   \n",
       "Artist Wikidata URL                                                   NaN   \n",
       "Object Date                                                       1909–27   \n",
       "Object Begin Date                                                    1909   \n",
       "Object End Date                                                      1927   \n",
       "Medium                                                               Gold   \n",
       "Dimensions                                       Diam. 11/16 in. (1.7 cm)   \n",
       "Credit Line                              Gift of C. Ruxton Love Jr., 1967   \n",
       "Geography Type                                                        NaN   \n",
       "City                                                                  NaN   \n",
       "State                                                                 NaN   \n",
       "County                                                                NaN   \n",
       "Country                                                               NaN   \n",
       "Region                                                                NaN   \n",
       "Subregion                                                             NaN   \n",
       "Locale                                                                NaN   \n",
       "Locus                                                                 NaN   \n",
       "Excavation                                                            NaN   \n",
       "River                                                                 NaN   \n",
       "Classification                                                        NaN   \n",
       "Rights and Reproduction                                               NaN   \n",
       "Link Resource            http://www.metmuseum.org/art/collection/search/3   \n",
       "Object Wikidata URL                                                   NaN   \n",
       "Metadata Date                                                         NaN   \n",
       "Repository                       Metropolitan Museum of Art, New York, NY   \n",
       "Tags                                                                  NaN   \n",
       "Tags AAT URL                                                          NaN   \n",
       "Tags Wikidata URL                                                     NaN   \n",
       "\n",
       "                                                                        3  \\\n",
       "Object Number                                                   67.265.10   \n",
       "Is Highlight                                                        False   \n",
       "Is Timeline Work                                                    False   \n",
       "Is Public Domain                                                    False   \n",
       "Object ID                                                               4   \n",
       "Gallery Number                                                        NaN   \n",
       "Department                                              The American Wing   \n",
       "AccessionYear                                                      1967.0   \n",
       "Object Name                                                          Coin   \n",
       "Title                                          Two-and-a-Half Dollar Coin   \n",
       "Culture                                                               NaN   \n",
       "Period                                                                NaN   \n",
       "Dynasty                                                               NaN   \n",
       "Reign                                                                 NaN   \n",
       "Portfolio                                                             NaN   \n",
       "Constituent ID                                                        NaN   \n",
       "Artist Role                                                           NaN   \n",
       "Artist Prefix                                                         NaN   \n",
       "Artist Display Name                                                   NaN   \n",
       "Artist Display Bio                                                    NaN   \n",
       "Artist Suffix                                                         NaN   \n",
       "Artist Alpha Sort                                                     NaN   \n",
       "Artist Nationality                                                    NaN   \n",
       "Artist Begin Date                                                     NaN   \n",
       "Artist End Date                                                       NaN   \n",
       "Artist Gender                                                         NaN   \n",
       "Artist ULAN URL                                                       NaN   \n",
       "Artist Wikidata URL                                                   NaN   \n",
       "Object Date                                                       1909–27   \n",
       "Object Begin Date                                                    1909   \n",
       "Object End Date                                                      1927   \n",
       "Medium                                                               Gold   \n",
       "Dimensions                                       Diam. 11/16 in. (1.7 cm)   \n",
       "Credit Line                              Gift of C. Ruxton Love Jr., 1967   \n",
       "Geography Type                                                        NaN   \n",
       "City                                                                  NaN   \n",
       "State                                                                 NaN   \n",
       "County                                                                NaN   \n",
       "Country                                                               NaN   \n",
       "Region                                                                NaN   \n",
       "Subregion                                                             NaN   \n",
       "Locale                                                                NaN   \n",
       "Locus                                                                 NaN   \n",
       "Excavation                                                            NaN   \n",
       "River                                                                 NaN   \n",
       "Classification                                                        NaN   \n",
       "Rights and Reproduction                                               NaN   \n",
       "Link Resource            http://www.metmuseum.org/art/collection/search/4   \n",
       "Object Wikidata URL                                                   NaN   \n",
       "Metadata Date                                                         NaN   \n",
       "Repository                       Metropolitan Museum of Art, New York, NY   \n",
       "Tags                                                                  NaN   \n",
       "Tags AAT URL                                                          NaN   \n",
       "Tags Wikidata URL                                                     NaN   \n",
       "\n",
       "                                                                        4  \n",
       "Object Number                                                   67.265.11  \n",
       "Is Highlight                                                        False  \n",
       "Is Timeline Work                                                    False  \n",
       "Is Public Domain                                                    False  \n",
       "Object ID                                                               5  \n",
       "Gallery Number                                                        NaN  \n",
       "Department                                              The American Wing  \n",
       "AccessionYear                                                      1967.0  \n",
       "Object Name                                                          Coin  \n",
       "Title                                          Two-and-a-Half Dollar Coin  \n",
       "Culture                                                               NaN  \n",
       "Period                                                                NaN  \n",
       "Dynasty                                                               NaN  \n",
       "Reign                                                                 NaN  \n",
       "Portfolio                                                             NaN  \n",
       "Constituent ID                                                        NaN  \n",
       "Artist Role                                                           NaN  \n",
       "Artist Prefix                                                         NaN  \n",
       "Artist Display Name                                                   NaN  \n",
       "Artist Display Bio                                                    NaN  \n",
       "Artist Suffix                                                         NaN  \n",
       "Artist Alpha Sort                                                     NaN  \n",
       "Artist Nationality                                                    NaN  \n",
       "Artist Begin Date                                                     NaN  \n",
       "Artist End Date                                                       NaN  \n",
       "Artist Gender                                                         NaN  \n",
       "Artist ULAN URL                                                       NaN  \n",
       "Artist Wikidata URL                                                   NaN  \n",
       "Object Date                                                       1909–27  \n",
       "Object Begin Date                                                    1909  \n",
       "Object End Date                                                      1927  \n",
       "Medium                                                               Gold  \n",
       "Dimensions                                       Diam. 11/16 in. (1.7 cm)  \n",
       "Credit Line                              Gift of C. Ruxton Love Jr., 1967  \n",
       "Geography Type                                                        NaN  \n",
       "City                                                                  NaN  \n",
       "State                                                                 NaN  \n",
       "County                                                                NaN  \n",
       "Country                                                               NaN  \n",
       "Region                                                                NaN  \n",
       "Subregion                                                             NaN  \n",
       "Locale                                                                NaN  \n",
       "Locus                                                                 NaN  \n",
       "Excavation                                                            NaN  \n",
       "River                                                                 NaN  \n",
       "Classification                                                        NaN  \n",
       "Rights and Reproduction                                               NaN  \n",
       "Link Resource            http://www.metmuseum.org/art/collection/search/5  \n",
       "Object Wikidata URL                                                   NaN  \n",
       "Metadata Date                                                         NaN  \n",
       "Repository                       Metropolitan Museum of Art, New York, NY  \n",
       "Tags                                                                  NaN  \n",
       "Tags AAT URL                                                          NaN  \n",
       "Tags Wikidata URL                                                     NaN  "
      ]
     },
     "execution_count": 26,
     "metadata": {},
     "output_type": "execute_result"
    }
   ],
   "source": [
    "# Import the data. This should take at least ~15 seconds depending on your Internet speed.\n",
    "\n",
    "import pandas as pd\n",
    "\n",
    "url = \"https://media.githubusercontent.com/media/metmuseum/openaccess/master/MetObjects.csv\"\n",
    "df = pd.read_csv(url)\n",
    "df.head(5).transpose()"
   ]
  },
  {
   "cell_type": "markdown",
   "metadata": {},
   "source": [
    "#### Added this for data cleaning (modified version)"
   ]
  },
  {
   "cell_type": "code",
   "execution_count": 90,
   "metadata": {},
   "outputs": [],
   "source": [
    "# CODE FOR 4A\n",
    "# Didn't do any data wrangling in the old version.\n",
    "\n",
    "# Newer version\n",
    "# There were some empty entries. I replaced them with NaN\n",
    "# Find empty entry and replace it with NaN\n",
    "import numpy as np\n",
    "df = df.replace(' ', np.nan) "
   ]
  },
  {
   "cell_type": "code",
   "execution_count": 79,
   "metadata": {
    "colab": {
     "base_uri": "https://localhost:8080/",
     "height": 217
    },
    "id": "WrE9tSVyQRAv",
    "outputId": "b3d626cf-b7d5-4b51-d299-faea54d46aa6"
   },
   "outputs": [
    {
     "data": {
      "text/plain": [
       "Egypt                       31292\n",
       "United States                9093\n",
       "Iran                         6264\n",
       "Peru                         3396\n",
       "France                       1717\n",
       "                            ...  \n",
       "Bohemia (Hungary)               1\n",
       "present-day Saudi Arabia        1\n",
       "Burkina Faso or Ghana           1\n",
       "China or Mongolia               1\n",
       "Germany or South Germany        1\n",
       "Name: Country, Length: 940, dtype: int64"
      ]
     },
     "metadata": {},
     "output_type": "display_data"
    }
   ],
   "source": [
    "display(df['Country'].value_counts())"
   ]
  },
  {
   "cell_type": "code",
   "execution_count": 80,
   "metadata": {},
   "outputs": [
    {
     "data": {
      "text/plain": [
       "9093"
      ]
     },
     "execution_count": 80,
     "metadata": {},
     "output_type": "execute_result"
    }
   ],
   "source": [
    "df[df[\"Country\"] == \"United States\"].shape[0]"
   ]
  },
  {
   "cell_type": "markdown",
   "metadata": {
    "id": "vZYStrQ8QqSi"
   },
   "source": [
    "**How many objects in the collection are from the United States?**\n",
    "\n",
    "- 9093"
   ]
  },
  {
   "cell_type": "markdown",
   "metadata": {
    "id": "DfX2pDe4RXBr"
   },
   "source": [
    "### 4B (30 pts)\n",
    "\n",
    "Clean at least two other columns and describe the changes you made."
   ]
  },
  {
   "cell_type": "code",
   "execution_count": 42,
   "metadata": {
    "colab": {
     "base_uri": "https://localhost:8080/"
    },
    "id": "tNQGlEE8RfpM",
    "outputId": "8b151a8d-6fa4-45f6-e7e9-b8148793a253"
   },
   "outputs": [
    {
     "name": "stdout",
     "output_type": "stream",
     "text": [
      "<class 'pandas.core.frame.DataFrame'>\n",
      "RangeIndex: 476677 entries, 0 to 476676\n",
      "Data columns (total 54 columns):\n",
      " #   Column                   Non-Null Count   Dtype  \n",
      "---  ------                   --------------   -----  \n",
      " 0   Object Number            476677 non-null  object \n",
      " 1   Is Highlight             476677 non-null  bool   \n",
      " 2   Is Timeline Work         476677 non-null  bool   \n",
      " 3   Is Public Domain         476677 non-null  bool   \n",
      " 4   Object ID                476677 non-null  int64  \n",
      " 5   Gallery Number           47170 non-null   object \n",
      " 6   Department               476677 non-null  object \n",
      " 7   AccessionYear            472264 non-null  object \n",
      " 8   Object Name              475124 non-null  object \n",
      " 9   Title                    447518 non-null  object \n",
      " 10  Culture                  207080 non-null  object \n",
      " 11  Period                   90876 non-null   object \n",
      " 12  Dynasty                  23237 non-null   object \n",
      " 13  Reign                    11225 non-null   object \n",
      " 14  Portfolio                23377 non-null   object \n",
      " 15  Constituent ID           274467 non-null  object \n",
      " 16  Artist Role              272368 non-null  object \n",
      " 17  Artist Prefix            131483 non-null  object \n",
      " 18  Artist Display Name      274467 non-null  object \n",
      " 19  Artist Display Bio       238324 non-null  object \n",
      " 20  Artist Suffix            98020 non-null   object \n",
      " 21  Artist Alpha Sort        274331 non-null  object \n",
      " 22  Artist Nationality       207388 non-null  object \n",
      " 23  Artist Begin Date        274467 non-null  object \n",
      " 24  Artist End Date          274467 non-null  object \n",
      " 25  Artist Gender            102434 non-null  object \n",
      " 26  Artist ULAN URL          219365 non-null  object \n",
      " 27  Artist Wikidata URL      216124 non-null  object \n",
      " 28  Object Date              462826 non-null  object \n",
      " 29  Object Begin Date        476677 non-null  int64  \n",
      " 30  Object End Date          476677 non-null  int64  \n",
      " 31  Medium                   469553 non-null  object \n",
      " 32  Dimensions               401417 non-null  object \n",
      " 33  Credit Line              476272 non-null  object \n",
      " 34  Geography Type           59737 non-null   object \n",
      " 35  City                     32276 non-null   object \n",
      " 36  State                    2550 non-null    object \n",
      " 37  County                   8409 non-null    object \n",
      " 38  Country                  75696 non-null   object \n",
      " 39  Region                   31407 non-null   object \n",
      " 40  Subregion                22107 non-null   object \n",
      " 41  Locale                   15643 non-null   object \n",
      " 42  Locus                    7441 non-null    object \n",
      " 43  Excavation               16034 non-null   object \n",
      " 44  River                    2095 non-null    object \n",
      " 45  Classification           398644 non-null  object \n",
      " 46  Rights and Reproduction  23961 non-null   object \n",
      " 47  Link Resource            476677 non-null  object \n",
      " 48  Object Wikidata URL      22176 non-null   object \n",
      " 49  Metadata Date            0 non-null       float64\n",
      " 50  Repository               476677 non-null  object \n",
      " 51  Tags                     200541 non-null  object \n",
      " 52  Tags AAT URL             200072 non-null  object \n",
      " 53  Tags Wikidata URL        200039 non-null  object \n",
      "dtypes: bool(3), float64(1), int64(3), object(47)\n",
      "memory usage: 186.8+ MB\n"
     ]
    }
   ],
   "source": [
    "# YOUR CODE FOR 4B\n",
    "df.info()"
   ]
  },
  {
   "cell_type": "markdown",
   "metadata": {
    "id": "VzpvqGRJRha6"
   },
   "source": [
    "##### TYPE YOUR ANSWER TO 4B HERE.*\n",
    "\n",
    "##### Previous answer (15/30)\n",
    "* Don't have enough time. Just will explain.\n",
    "* We can see from the last output, there some missing entries in many columns. I would try to see common pattern and do some sorta imputation like mean/median like I did in DataCamp Runkeeper assignment. \n",
    "\n",
    "##### New answer"
   ]
  },
  {
   "cell_type": "code",
   "execution_count": 43,
   "metadata": {},
   "outputs": [
    {
     "data": {
      "text/plain": [
       "269597"
      ]
     },
     "execution_count": 43,
     "metadata": {},
     "output_type": "execute_result"
    }
   ],
   "source": [
    "# Culture\n",
    "df['Culture'].isnull().sum()"
   ]
  },
  {
   "cell_type": "code",
   "execution_count": 44,
   "metadata": {},
   "outputs": [
    {
     "data": {
      "text/plain": [
       "0         Unknown\n",
       "1         Unknown\n",
       "2         Unknown\n",
       "3         Unknown\n",
       "4         Unknown\n",
       "           ...   \n",
       "476672    Unknown\n",
       "476673    Unknown\n",
       "476674    Unknown\n",
       "476675    Unknown\n",
       "476676    Unknown\n",
       "Name: Culture, Length: 476677, dtype: object"
      ]
     },
     "execution_count": 44,
     "metadata": {},
     "output_type": "execute_result"
    }
   ],
   "source": [
    "df['Culture'].fillna('Unknown')"
   ]
  },
  {
   "cell_type": "code",
   "execution_count": 45,
   "metadata": {},
   "outputs": [
    {
     "data": {
      "text/plain": [
       "385801"
      ]
     },
     "execution_count": 45,
     "metadata": {},
     "output_type": "execute_result"
    }
   ],
   "source": [
    "# Period\n",
    "df['Period'].isnull().sum()"
   ]
  },
  {
   "cell_type": "code",
   "execution_count": 46,
   "metadata": {},
   "outputs": [
    {
     "data": {
      "text/plain": [
       "0         Unknown\n",
       "1         Unknown\n",
       "2         Unknown\n",
       "3         Unknown\n",
       "4         Unknown\n",
       "           ...   \n",
       "476672    Unknown\n",
       "476673    Unknown\n",
       "476674    Unknown\n",
       "476675    Unknown\n",
       "476676    Unknown\n",
       "Name: Period, Length: 476677, dtype: object"
      ]
     },
     "execution_count": 46,
     "metadata": {},
     "output_type": "execute_result"
    }
   ],
   "source": [
    "df['Period'].fillna('Unknown')"
   ]
  },
  {
   "cell_type": "markdown",
   "metadata": {},
   "source": [
    "The two columns I made some changes to are Culture and Period columns. Both columns had some NaN values. In art galleries/museums, we don’t use NaN. If we don’t know something about the art/sculpture, we use unknown for that field. That’s what I did for both the columns.\n",
    "\n",
    "Note: I also removed all the empty entries with NaN - line (40) to make the calculation easier. "
   ]
  },
  {
   "cell_type": "markdown",
   "metadata": {
    "id": "mCgn69vrV4_h"
   },
   "source": [
    "## Question 5 (40 pts)\n"
   ]
  },
  {
   "cell_type": "markdown",
   "metadata": {
    "id": "w9542WgtW32_"
   },
   "source": [
    "\n",
    "### 5A (20 pts)\n",
    "\n",
    "**Build a model to predict whether an object is a popular and important artwork in the collection.** This is indicated by the `Is Highlight` column.\n"
   ]
  },
  {
   "cell_type": "markdown",
   "metadata": {},
   "source": [
    "##### Previous Answer (0/20)\n",
    "- Empty"
   ]
  },
  {
   "cell_type": "markdown",
   "metadata": {},
   "source": [
    "##### New Answer"
   ]
  },
  {
   "cell_type": "code",
   "execution_count": 48,
   "metadata": {
    "id": "mil7JFCnRQW1"
   },
   "outputs": [
    {
     "data": {
      "text/plain": [
       "LogisticRegression()"
      ]
     },
     "execution_count": 48,
     "metadata": {},
     "output_type": "execute_result"
    }
   ],
   "source": [
    "# YOUR CODE FOR 5\n",
    "from sklearn.linear_model import LogisticRegression\n",
    "from sklearn.model_selection import train_test_split\n",
    "\n",
    "# Taking the dataset and split it into features (x) and label (y)\n",
    "features_x = df[[\"Object Begin Date\", \"Object End Date\"]]\n",
    "label_y = df[\"Is Highlight\"]\n",
    "\n",
    "# Using sklearn to split the features and labels into a training/test set. (90% train, 10% test)\n",
    "x_train, x_test, y_train, y_test = train_test_split(features_x, label_y, train_size = 0.9, test_size = 0.1, random_state=42)\n",
    "\n",
    "# Using sklearn to train a LogisticRegression model on the training set\n",
    "logreg = LogisticRegression()\n",
    "logreg.fit(x_train, y_train)"
   ]
  },
  {
   "cell_type": "markdown",
   "metadata": {
    "id": "1O0DJaehRow1"
   },
   "source": [
    "### 5B (20 pts)\n",
    "\n",
    "**What model did you choose and why?** (10 pts)\n",
    "\n",
    "###### Previous answer (0/10)\n",
    "- I would pick linear regression because I want to want see how popular the object is.\n",
    "\n",
    "##### New answer\n",
    "- I chose the Logistic Regression Model. It is because we are classifying whether an art piece is popular (Is Highlight) or not."
   ]
  },
  {
   "cell_type": "markdown",
   "metadata": {},
   "source": [
    "**Describe the features that you chose and why.** (10 pts)\n",
    "\n",
    "##### Previous answer (0/10)\n",
    "- Empty\n",
    "\n",
    "##### New answer\n",
    "- The features I chose were the starting and ending date of the artwork. I picked these features because some artworks are famous in one era but forgotten in other eras. For example, the sculpture was popular back in the 4th and 5th centuries BC. Christian art was popular in the Renaissance era. In the modern era, NFTs are popular."
   ]
  },
  {
   "cell_type": "markdown",
   "metadata": {
    "id": "i2V3DXkCV54V"
   },
   "source": [
    "## Question 6 (30 pts)"
   ]
  },
  {
   "cell_type": "markdown",
   "metadata": {
    "id": "ZwaJKyyFW9Vy"
   },
   "source": [
    "\n",
    "### 6A (15 pts)\n",
    "Evaluate the performance of your model. "
   ]
  },
  {
   "cell_type": "markdown",
   "metadata": {},
   "source": [
    "##### Previous answer (5/15)"
   ]
  },
  {
   "cell_type": "code",
   "execution_count": 52,
   "metadata": {
    "id": "sNhAanw4R7vf"
   },
   "outputs": [],
   "source": [
    "# YOUR CODE FOR 6\n",
    "# Copied from class collab\n",
    "# lm.fit(X, df)\n",
    "# predicted = lm.predict(X)\n",
    "# deviation = predicted - df.values\n",
    "# deviation_sq = deviation**2"
   ]
  },
  {
   "cell_type": "markdown",
   "metadata": {},
   "source": [
    "##### New answer"
   ]
  },
  {
   "cell_type": "code",
   "execution_count": 81,
   "metadata": {},
   "outputs": [
    {
     "data": {
      "image/png": "[encoded data removed]",
      "text/plain": [
       "<Figure size 432x288 with 2 Axes>"
      ]
     },
     "metadata": {
      "needs_background": "light"
     },
     "output_type": "display_data"
    }
   ],
   "source": [
    "# Making a class predictions for the testing set\n",
    "y_pred_test = logreg.predict(x_test)\n",
    "\n",
    "# Import metrics\n",
    "from sklearn.metrics import accuracy_score\n",
    "from sklearn.metrics import confusion_matrix\n",
    "from sklearn.metrics import plot_confusion_matrix\n",
    "from sklearn.metrics import classification_report\n",
    "\n",
    "\n",
    "disp = plot_confusion_matrix(logreg, x_test, y_test, cmap = \"Blues\", values_format = '.5g')  "
   ]
  },
  {
   "cell_type": "code",
   "execution_count": 82,
   "metadata": {},
   "outputs": [
    {
     "data": {
      "text/plain": [
       "array([[47406,     1],\n",
       "       [  261,     0]], dtype=int64)"
      ]
     },
     "execution_count": 82,
     "metadata": {},
     "output_type": "execute_result"
    }
   ],
   "source": [
    "confusion_matrix(y_test, y_pred_test)"
   ]
  },
  {
   "cell_type": "code",
   "execution_count": 83,
   "metadata": {},
   "outputs": [
    {
     "name": "stdout",
     "output_type": "stream",
     "text": [
      "              precision    recall  f1-score   support\n",
      "\n",
      "       False       0.99      1.00      1.00     47407\n",
      "        True       0.00      0.00      0.00       261\n",
      "\n",
      "    accuracy                           0.99     47668\n",
      "   macro avg       0.50      0.50      0.50     47668\n",
      "weighted avg       0.99      0.99      0.99     47668\n",
      "\n"
     ]
    }
   ],
   "source": [
    "print(classification_report(y_test, y_pred_test))"
   ]
  },
  {
   "cell_type": "code",
   "execution_count": 84,
   "metadata": {},
   "outputs": [
    {
     "data": {
      "text/plain": [
       "0.9945036502475455"
      ]
     },
     "execution_count": 84,
     "metadata": {},
     "output_type": "execute_result"
    }
   ],
   "source": [
    "accuracy_score(y_test, y_pred_test)"
   ]
  },
  {
   "cell_type": "code",
   "execution_count": 86,
   "metadata": {},
   "outputs": [],
   "source": [
    "y_pred_train = logreg.predict(x_train)"
   ]
  },
  {
   "cell_type": "code",
   "execution_count": 88,
   "metadata": {},
   "outputs": [
    {
     "data": {
      "text/plain": [
       "0.9948719024542608"
      ]
     },
     "execution_count": 88,
     "metadata": {},
     "output_type": "execute_result"
    }
   ],
   "source": [
    "accuracy_score(y_train, y_pred_train)"
   ]
  },
  {
   "cell_type": "markdown",
   "metadata": {},
   "source": [
    "##### Since both the training accuracy and test accuracy are close and not low, the model is neither overfitting nor underfitting."
   ]
  },
  {
   "cell_type": "markdown",
   "metadata": {
    "id": "ilQd_N3HR9bS"
   },
   "source": [
    "### 6B (15 pts)\n",
    "\n",
    "**If you had more time, what would you try to improve your model and why?**\n",
    "\n",
    "##### Previous answer (0/15)\n",
    "- Empty\n",
    "\n",
    "##### New answer\n",
    "- Pretending I was given 2 hours (not 1 week) to complete it.\n",
    "\n",
    "- If I had more time, I would do more data wrangling. I see that there are many columns with many NaN values. Some of the columns' datatypes are object instead of int and float. I would change those columns to int/float. After the data wrangling, I would try to find more features that make sense to use in the model to increase the model's accuracy."
   ]
  },
  {
   "cell_type": "markdown",
   "metadata": {
    "id": "gZzh3mwnSMjQ"
   },
   "source": [
    "## Bonus (10 pts) (No Change) (10/10)\n",
    "\n",
    "**Which data science presentation has been the most interesting to you and why?**\n",
    "\n",
    "*TYPE YOUR ANSWER FOR THE BONUS HERE*\n",
    "* RPA presentation has been the most interesting to me. It is because I didn't know about RPA. It could do so much like it could scrape data from PDA, flat files and spreadsheets. It could also use technology like OCR to analyze text like receipts, scan PDf and much more."
   ]
  },
  {
   "cell_type": "markdown",
   "metadata": {},
   "source": [
    "##### Previous Total = 110\n",
    "##### New total = ?"
   ]
  }
 ],
 "metadata": {
  "colab": {
   "collapsed_sections": [],
   "name": "Kazi Siam - Midterm",
   "provenance": []
  },
  "kernelspec": {
   "display_name": "Python 3 (ipykernel)",
   "language": "python",
   "name": "python3"
  },
  "language_info": {
   "codemirror_mode": {
    "name": "ipython",
    "version": 3
   },
   "file_extension": ".py",
   "mimetype": "text/x-python",
   "name": "python",
   "nbconvert_exporter": "python",
   "pygments_lexer": "ipython3",
   "version": "3.8.12"
  }
 },
 "nbformat": 4,
 "nbformat_minor": 1
}
